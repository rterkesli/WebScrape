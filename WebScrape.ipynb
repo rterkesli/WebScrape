{
 "cells": [
  {
   "cell_type": "code",
   "execution_count": 137,
   "metadata": {},
   "outputs": [],
   "source": [
    "import bs4\n",
    "import pandas as pd\n",
    "import csv\n",
    "\n",
    "# import these two modules bs4 for selecting HTML tags easily\n",
    "from bs4 import BeautifulSoup as soup\n",
    "# requests module is easy to operate some people use urllib but I prefer this one because it is easy to use.\n",
    "import requests\n",
    "\n",
    "# I put here my own blog url ,you can change it.\n",
    "url = \"https://www.cel.ro/placi-video/\"\n",
    "\n",
    "#Requests module use to data from given url\n",
    "source=requests.get(url)\n",
    "\n",
    "# BeautifulSoup is used for getting HTML structure from requests response.(craete your soup)\n",
    "soup=BeautifulSoup(source.text,\"html.parser\")"
   ]
  },
  {
   "cell_type": "code",
   "execution_count": 138,
   "metadata": {},
   "outputs": [
    {
     "data": {
      "text/plain": [
       "<h1 class=\"nameproducts\">Placi video</h1>"
      ]
     },
     "execution_count": 138,
     "metadata": {},
     "output_type": "execute_result"
    }
   ],
   "source": [
    "soup.h1"
   ]
  },
  {
   "cell_type": "code",
   "execution_count": 139,
   "metadata": {},
   "outputs": [],
   "source": [
    "containers = soup.findAll(\"div\",{\"class\":\"product_data productListing-tot\"})"
   ]
  },
  {
   "cell_type": "code",
   "execution_count": 140,
   "metadata": {},
   "outputs": [
    {
     "data": {
      "text/plain": [
       "60"
      ]
     },
     "execution_count": 140,
     "metadata": {},
     "output_type": "execute_result"
    }
   ],
   "source": [
    "len(containers)"
   ]
  },
  {
   "cell_type": "code",
   "execution_count": 141,
   "metadata": {},
   "outputs": [
    {
     "data": {
      "text/plain": [
       "<div cat_nam=\"Placi video\" class=\"product_data productListing-tot\" pid_prod=\"1064053\"><div class=\"productListingWrapper\"><div class=\"productListing-poza\" style=\"position:relative;\"><a href=\"/placi-video/placa-video-gigabyte-geforce-rtx-2080ti-gaming-oc-11gb-gddr6-352-bit-pMCI1MDUrNQ-l/\"><span class=\"imageH\"></span><img alt=\"Placa video GIGABYTE GeForce RTX 2080Ti GAMING OC 11GB GDDR6 352 bit Placi video\" content=\"https://s.cel.ro/images/Products/placa-video-gigabyte-geforce-rtx-2080-ti-gaming-oc-11gb-gddr6-352-bit.jpg\" data-src=\"https://s.cel.ro/images/Products/placa-video-gigabyte-geforce-rtx-2080-ti-gaming-oc-11gb-gddr6-352-bit.jpg\" itemprop=\"image\" onerror=\"this.src='https://s.cel.ro//includes/templates/cel/images/no_picture.gif';\" productpic=\"1\" src=\"https://s.cel.ro//includes/templates/cel/images/no_picture.gif\" yt=\"pimg\"/></a></div><div class=\"productListing-nume\"><div class=\"badgesWrapper\"><div class=\"badge red badge-promo\">recomandat</div></div><div class=\"pretWrapper\"><div class=\"pret_n\"><b productprice=\"1\">5699</b><b class=\"moneda\">lei</b></div></div><h2 class=\"productTitle\"><a class=\"productListing-data-b product_link product_name\" href=\"/placi-video/placa-video-gigabyte-geforce-rtx-2080ti-gaming-oc-11gb-gddr6-352-bit-pMCI1MDUrNQ-l/\"><span>Placa video GIGABYTE GeForce RTX 2080Ti GAMING OC 11GB GDDR6 352 bit</span></a></h2><div class=\"caract_scurte\"><ul><li>Capacitate memorie (GB): 11 GB</li></ul></div><div class=\"container_stoc\"><div class=\"bonus_p\"></div><div class=\"buttons\"><div class=\"productListing-buton\"><a class=\"btnCumpara buy_product\" onclick=\"eval(Base64.decode('IHRyeSB7Z2EoJ3NldCcsICdjdXJyZW5jeUNvZGUnLCAnUk9OJyk7Z2EoJ3JlcXVpcmUnLCAnZWMnKTsKZ2EoJ2VjOmFkZFByb2R1Y3QnLCB7ImlkIjowLCJuYW1lIjpudWxsLCJjYXRlZ29yeSI6bnVsbCwiYnJhbmQiOm51bGwsInByaWNlIjoiMC4wMCIsInF1YW50aXR5IjoxfSk7CmdhKCdlYzpzZXRBY3Rpb24nLCAnZGV0YWlsJywgeyJsaXN0IjoiYWRkY2FydF9saXN0aW5nIn0pOwpnYSgnc2VuZCcsICdldmVudCcsICdQcm9kdWN0IGRldGFpbCcsICcxJyk7OyB9IGNhdGNoKGVycil7IGFqYXhnYWV2ZW50KCdlcnInLHtlMTogZXJyLm1lc3NhZ2UsIGUyOiBlcnIubmFtZX0pOyB9'));return cumpara_produs_market('1064053','0');\" rel=\"nofollow\" title=\"Adauga produsul in cos\"><i class=\"icon-shopping_cart\"></i><span style=\"display: none;\">Adauga in cos</span></a></div><a class=\"btnRetine add_my_class\" onclick=\"gaTrack('toggle_retine', 'listing', 'cel');\" rel=\"nofollow\" title=\"Retine produsul\"><i class=\"icon-heart-o\"></i></a></div><div class=\"stoc_list\"><span id=\"s1064053-0\"></span></div><div class=\"clearfix\"></div></div></div><div class=\"oferte_alternative\">Vandut de <span class=\"specialColor\">CEL.RO</span></div></div></div>"
      ]
     },
     "execution_count": 141,
     "metadata": {},
     "output_type": "execute_result"
    }
   ],
   "source": [
    "containers[0]"
   ]
  },
  {
   "cell_type": "code",
   "execution_count": 142,
   "metadata": {},
   "outputs": [],
   "source": [
    "container = containers[0]"
   ]
  },
  {
   "cell_type": "code",
   "execution_count": 143,
   "metadata": {},
   "outputs": [],
   "source": [
    "productTitle = container.findAll(\"h2\",{\"class\":\"productTitle\"})"
   ]
  },
  {
   "cell_type": "code",
   "execution_count": 144,
   "metadata": {},
   "outputs": [
    {
     "data": {
      "text/plain": [
       "'Placa video GIGABYTE GeForce RTX 2080Ti GAMING OC 11GB GDDR6 352 bit'"
      ]
     },
     "execution_count": 144,
     "metadata": {},
     "output_type": "execute_result"
    }
   ],
   "source": [
    "productTitle[0].text.strip()"
   ]
  },
  {
   "cell_type": "code",
   "execution_count": 145,
   "metadata": {},
   "outputs": [],
   "source": [
    "pretn = container.findAll(\"div\",{\"class\":\"pret_n\"})"
   ]
  },
  {
   "cell_type": "code",
   "execution_count": 146,
   "metadata": {},
   "outputs": [
    {
     "data": {
      "text/plain": [
       "'5699lei'"
      ]
     },
     "execution_count": 146,
     "metadata": {},
     "output_type": "execute_result"
    }
   ],
   "source": [
    "pretn[0].text.strip()"
   ]
  },
  {
   "cell_type": "code",
   "execution_count": 147,
   "metadata": {},
   "outputs": [],
   "source": [
    "pret_v = container.findAll(\"div\",{\"class\":\"pret_v\"})"
   ]
  },
  {
   "cell_type": "code",
   "execution_count": 155,
   "metadata": {},
   "outputs": [
    {
     "ename": "IndexError",
     "evalue": "list index out of range",
     "output_type": "error",
     "traceback": [
      "\u001b[1;31m---------------------------------------------------------------------------\u001b[0m",
      "\u001b[1;31mIndexError\u001b[0m                                Traceback (most recent call last)",
      "\u001b[1;32m<ipython-input-155-561ef5fb5a54>\u001b[0m in \u001b[0;36m<module>\u001b[1;34m\u001b[0m\n\u001b[1;32m----> 1\u001b[1;33m \u001b[0mpret_v\u001b[0m\u001b[1;33m[\u001b[0m\u001b[1;36m0\u001b[0m\u001b[1;33m]\u001b[0m\u001b[1;33m.\u001b[0m\u001b[0mtext\u001b[0m\u001b[1;33m.\u001b[0m\u001b[0mstrip\u001b[0m\u001b[1;33m(\u001b[0m\u001b[1;33m)\u001b[0m\u001b[1;33m\u001b[0m\u001b[1;33m\u001b[0m\u001b[0m\n\u001b[0m",
      "\u001b[1;31mIndexError\u001b[0m: list index out of range"
     ]
    }
   ],
   "source": [
    "pret_v[0].text.strip()"
   ]
  },
  {
   "cell_type": "code",
   "execution_count": 156,
   "metadata": {},
   "outputs": [],
   "source": [
    "caract_scurte = container.findAll(\"div\",{\"class\":\"caract_scurte\"})"
   ]
  },
  {
   "cell_type": "code",
   "execution_count": 157,
   "metadata": {},
   "outputs": [
    {
     "data": {
      "text/plain": [
       "'Capacitate memorie (GB): 6 GB'"
      ]
     },
     "execution_count": 157,
     "metadata": {},
     "output_type": "execute_result"
    }
   ],
   "source": [
    "caract_scurte[0].text.strip()"
   ]
  },
  {
   "cell_type": "code",
   "execution_count": 158,
   "metadata": {},
   "outputs": [],
   "source": [
    "oferte_alternative = container.findAll(\"div\",{\"class\":\"oferte_alternative\"})"
   ]
  },
  {
   "cell_type": "code",
   "execution_count": 159,
   "metadata": {},
   "outputs": [
    {
     "data": {
      "text/plain": [
       "'Vandut de CEL.RO'"
      ]
     },
     "execution_count": 159,
     "metadata": {},
     "output_type": "execute_result"
    }
   ],
   "source": [
    "oferte_alternative[0].text.strip()"
   ]
  },
  {
   "cell_type": "code",
   "execution_count": 160,
   "metadata": {},
   "outputs": [],
   "source": [
    "title = []\n",
    "price_n = []\n",
    "price_o = []\n",
    "mem_gb = []\n",
    "vendor = []"
   ]
  },
  {
   "cell_type": "code",
   "execution_count": 161,
   "metadata": {},
   "outputs": [
    {
     "name": "stdout",
     "output_type": "stream",
     "text": [
      "Titlu : GIGABYTE GeForce RTX 2080Ti GAMING OC 11GB GDDR6 352 bit\n",
      "Pret nou : 5699\n",
      "Pret vechi : -1\n",
      "Capacitate memorie (GB) : 11\n",
      "Vandut de : CEL.RO\n",
      "Titlu : ASUS ROG Strix GeForce RTX 2080Ti OC edition 11GB GDDR6\n",
      "Pret nou : 6649\n",
      "Pret vechi : -1\n",
      "Capacitate memorie (GB) : 11\n",
      "Vandut de : CEL.RO\n",
      "Titlu : MSI GeForce RTX 2080Ti GAMING X TRIO 11GB GDDR6 352-bit\n",
      "Pret nou : 6499\n",
      "Pret vechi : -1\n",
      "Capacitate memorie (GB) : 11\n",
      "Vandut de : CEL.RO\n",
      "Titlu : Gigabyte AORUS GeForce RTX 2080 SUPER 8GB GDDR6 256-bit\n",
      "Pret nou : 4199\n",
      "Pret vechi : -1\n",
      "Capacitate memorie (GB) : 8\n",
      "Vandut de : CEL.RO\n",
      "Titlu : MSI GeForce RTX 2080 SUPER Gaming X Trio 8GB GDDR6 256-bit\n",
      "Pret nou : 3899\n",
      "Pret vechi : -1\n",
      "Capacitate memorie (GB) : 8\n",
      "Vandut de : CEL.RO\n",
      "Titlu : GIGABYTE GeForce RTX 2070 SUPER WINDFORCE OC 3X 8GB GDDR6 256-bit\n",
      "Pret nou : 2649\n",
      "Pret vechi : -1\n",
      "Capacitate memorie (GB) : 8\n",
      "Vandut de : CEL.RO\n",
      "Titlu : GIGABYTE GeForce RTX 2070 Windforce 2X 8GB GDDR6 256-bit\n",
      "Pret nou : 2149\n",
      "Pret vechi : -1\n",
      "Capacitate memorie (GB) : 8\n",
      "Vandut de : CEL.RO\n",
      "Titlu : MSI GeForce RTX 2070 SUPER VENTUS OC 8GB GDDR6 256-bit\n",
      "Pret nou : 2599\n",
      "Pret vechi : -1\n",
      "Capacitate memorie (GB) : 8\n",
      "Vandut de : CEL.RO\n",
      "Titlu : GIGABYTE Radeon RX 5700 XT GAMING OC 8GB GDDR6 256-bit\n",
      "Pret nou : 2099\n",
      "Pret vechi : -1\n",
      "Capacitate memorie (GB) : 8\n",
      "Vandut de : CEL.RO\n",
      "Titlu : GIGABYTE GeForce RTX 2070 SUPER GAMING OC 3X 8GB GDDR6 256-bit\n",
      "Pret nou : 2699\n",
      "Pret vechi : -1\n",
      "Capacitate memorie (GB) : 8\n",
      "Vandut de : CEL.RO\n",
      "Titlu : ASUS ROG Strix GeForce RTX 2070 SUPER OC 8GB GDDR6 256-bit\n",
      "Pret nou : 3199\n",
      "Pret vechi : 3252\n",
      "Capacitate memorie (GB) : 8\n",
      "Vandut de : CEL.RO\n",
      "Titlu : Gigabyte GeForce RTX 2070 SUPER GAMING OC WHITE 8GB GDDR6 256-bit\n",
      "Pret nou : 2699\n",
      "Pret vechi : -1\n",
      "Capacitate memorie (GB) : 8\n",
      "Vandut de : CEL.RO\n",
      "Titlu : GIGABYTE GeForce RTX 2080 SUPER WINDFORCE OC 8GB GDDR6 256-bit\n",
      "Pret nou : 3799\n",
      "Pret vechi : -1\n",
      "Capacitate memorie (GB) : 8\n",
      "Vandut de : CEL.RO\n",
      "Titlu : GIGABYTE GeForce RTX 2060 SUPER WINDFORCE 8GB GDDR6 256-bit\n",
      "Pret nou : 1999\n",
      "Pret vechi : -1\n",
      "Capacitate memorie (GB) : 8\n",
      "Vandut de : CEL.RO\n",
      "Titlu : GIGABYTE GeForce RTX 2060 OC 6GB GDDR6 192 bit\n",
      "Pret nou : 1699\n",
      "Pret vechi : 1720\n",
      "Capacitate memorie (GB) : 6\n",
      "Vandut de : CEL.RO\n",
      "Titlu : Zotac Gaming GeForce RTX 2060 SUPER AMP 8GB GDDR6 256-bit\n",
      "Pret nou : 1999\n",
      "Pret vechi : 2100\n",
      "Capacitate memorie (GB) : 8\n",
      "Vandut de : CEL.RO\n",
      "Titlu : Galaxy KFA2 GeForce RTX 2060 1-Click OC 6GB GDDR6 192-bit\n",
      "Pret nou : 1549\n",
      "Pret vechi : 1575\n",
      "Capacitate memorie (GB) : 6\n",
      "Vandut de : CEL.RO\n",
      "Titlu : PowerColor Red Devil Radeon RX 5600XT OC 6GB GDDR6 192-bit\n",
      "Pret nou : 1699\n",
      "Pret vechi : -1\n",
      "Capacitate memorie (GB) : 6\n",
      "Vandut de : CEL.RO\n",
      "Titlu : GIGABYTE GeForce GTX 1660Ti WINDFORCE 6GB GDDR6 192-bit\n",
      "Pret nou : 1409\n",
      "Pret vechi : -1\n",
      "Capacitate memorie (GB) : 6\n",
      "Vandut de : CEL.RO\n",
      "Titlu : Sapphire Radeon RX 5500XT 8GB GDDR6 128-bit\n",
      "Pret nou : 1099\n",
      "Pret vechi : -1\n",
      "Capacitate memorie (GB) : 8\n",
      "Vandut de : CEL.RO\n",
      "Titlu : GIGABYTE GeForce GTX 1660 SUPER OC 6GB GDDR6 192-bit\n",
      "Pret nou : 1249\n",
      "Pret vechi : -1\n",
      "Capacitate memorie (GB) : 6\n",
      "Vandut de : CEL.RO\n",
      "Titlu : Zotac GeForce GTX 1660 Twin Fan 6GB GDDR5 192-bit\n",
      "Pret nou : 1049\n",
      "Pret vechi : -1\n",
      "Capacitate memorie (GB) : 6\n",
      "Vandut de : CEL.RO\n",
      "Titlu : ASUS TUF Gaming X3 GeForce GTX 1660 Advanced 6GB GDDR5 192-bit\n",
      "Pret nou : 1299\n",
      "Pret vechi : -1\n",
      "Capacitate memorie (GB) : 6\n",
      "Vandut de : CEL.RO\n",
      "Titlu : GIGABYTE GeForce GT 710 1GB GDDR5 64-bit\n",
      "Pret nou : 184\n",
      "Pret vechi : 187\n",
      "Capacitate memorie (GB) : 1\n",
      "Vandut de : CEL.RO\n",
      "Titlu : GIGABYTE GTX 1650 WINDFORCE OC 4GB GDDR5 128-bit\n",
      "Pret nou : 799\n",
      "Pret vechi : -1\n",
      "Capacitate memorie (GB) : 4\n",
      "Vandut de : CEL.RO\n",
      "Titlu : XFX Radeon RX 470 8GB GDDR5X 256-bit RX-470P85BDB Refurbished\n",
      "Pret nou : 449\n",
      "Pret vechi : 500\n",
      "Capacitate memorie (GB) : 8\n",
      "Vandut de : CEL.RO\n",
      "Titlu : XFX Radeon RX 580 GTS XXX Edition 8GB GDDR5 256bit Refurbished\n",
      "Pret nou : 599\n",
      "Pret vechi : -1\n",
      "Capacitate memorie (GB) : 8\n",
      "Vandut de : CEL.RO\n",
      "Titlu : Sapphire Radeon RX 580 Pulse 8GB GDDR5 256bit\n",
      "Pret nou : 944\n",
      "Pret vechi : 950\n",
      "Capacitate memorie (GB) : 8\n",
      "Vandut de : CEL.RO\n",
      "Titlu : GIGABYTE GeForce GTX 1660 OC 6GB GDDR5 192-bit\n",
      "Pret nou : 1184\n",
      "Pret vechi : -1\n",
      "Capacitate memorie (GB) : 6\n",
      "Vandut de : CEL.RO\n",
      "Titlu : Gainward GeForce GT 710 1GB GDDR5 64-bits\n",
      "Pret nou : 171\n",
      "Pret vechi : -1\n",
      "Capacitate memorie (GB) : 1\n",
      "Vandut de : CEL.RO\n",
      "Titlu : GIGABYTE GeForce RTX 2060 Windforce OC 6GB GDDR6 192 bit\n",
      "Pret nou : 1749\n",
      "Pret vechi : -1\n",
      "Capacitate memorie (GB) : 6\n",
      "Vandut de : CEL.RO\n",
      "Titlu : GIGABYTE GeForce GTX 1650 Gaming OC 4GB GDDR5 128-bit\n",
      "Pret nou : 809\n",
      "Pret vechi : -1\n",
      "Capacitate memorie (GB) : 4\n",
      "Vandut de : CEL.RO\n",
      "Titlu : ASUS ROG Strix GeForce RTX 2080 SUPER 8GB GDDR6 256-bit\n",
      "Pret nou : 4199\n",
      "Pret vechi : 4231\n",
      "Capacitate memorie (GB) : 8\n",
      "Vandut de : CEL.RO\n",
      "Titlu : ASUS ROG Strix GeForce RTX 2080Ti OC edition 11GB GDDR6 Resigilat\n",
      "Pret nou : 6129\n",
      "Pret vechi : -1\n",
      "Capacitate memorie (GB) : 11\n",
      "Vandut de : CEL.RO\n",
      "Titlu : ASUS GeForce RTX 2080Ti STRIX GAMING 11GB GDDR6 352-bit Resigilat\n",
      "Pret nou : 5999\n",
      "Pret vechi : -1\n",
      "Capacitate memorie (GB) : 11\n",
      "Vandut de : CEL.RO\n",
      "Titlu : MSI GeForce RTX 2080 GAMING X TRIO 8GB GDDR6 256-bit Resigilat\n",
      "Pret nou : 3674\n",
      "Pret vechi : -1\n",
      "Capacitate memorie (GB) : 8\n",
      "Vandut de : CEL.RO\n",
      "Titlu : ASUS Radeon RX 5700 8GB GDDR6 256-bit\n",
      "Pret nou : 1931\n",
      "Pret vechi : 1939\n",
      "Capacitate memorie (GB) : 8\n",
      "Vandut de : CEL.RO\n",
      "Titlu : GIGABYTE Radeon RX 5600XT GAMING OC 6GB GDDR6 192-bit\n",
      "Pret nou : 1649\n",
      "Pret vechi : -1\n",
      "Capacitate memorie (GB) : 6\n",
      "Vandut de : CEL.RO\n",
      "Titlu : PowerColor Radeon RX 5600XT OC 6GB GDDR6 192-bit\n",
      "Pret nou : 1549\n",
      "Pret vechi : 1567\n",
      "Capacitate memorie (GB) : 6\n",
      "Vandut de : CEL.RO\n",
      "Titlu : XFX Radeon RX 5700 XT THICC II Ultra 8GB GDDR6 256-bit\n",
      "Pret nou : 1949\n",
      "Pret vechi : 1993\n",
      "Capacitate memorie (GB) : 8\n",
      "Vandut de : CEL.RO\n",
      "Titlu : Gainward GeForce GTX 1650 Pegasus OC 4GB GDDR5 128-bits\n",
      "Pret nou : 747\n",
      "Pret vechi : -1\n",
      "Capacitate memorie (GB) : 4\n",
      "Vandut de : CEL.RO\n",
      "Titlu : ASUS STRIX GeForce RTX 2060 SUPER Advanced 8GB GDDR6 256-bit\n",
      "Pret nou : 2399\n",
      "Pret vechi : 2449\n",
      "Capacitate memorie (GB) : 8\n",
      "Vandut de : CEL.RO\n",
      "Titlu : ASUS Phoenix GeForce GTX 1650 SUPER OC Edition 4GB GDDR6 128-bit\n",
      "Pret nou : 1205\n",
      "Pret vechi : -1\n",
      "Capacitate memorie (GB) : 4\n",
      "Vandut de : CEL.RO\n",
      "Titlu : INNO3D GEFORCE RTX 2080Ti X3 GAMING OC 11GB GDDR6 352 bit\n",
      "Pret nou : 5800\n",
      "Pret vechi : -1\n",
      "Capacitate memorie (GB) : 11\n",
      "Vandut de : CEL.RO\n",
      "Titlu : Sapphire Pulse Radeon RX 5700 XT 8GB GDDR6 256-bit\n",
      "Pret nou : 1999\n",
      "Pret vechi : 2050\n",
      "Capacitate memorie (GB) : 8\n",
      "Vandut de : CEL.RO\n",
      "Titlu : MSI GeForce RTX 2060 SUPER Gaming X 8GB GDDR6 256-bit\n",
      "Pret nou : 2199\n",
      "Pret vechi : -1\n",
      "Capacitate memorie (GB) : 8\n",
      "Vandut de : CEL.RO\n",
      "Titlu : GIGABYTE GeForce GTX 1660 SUPER Gaming OC 6GB GDDR6 192-bit\n",
      "Pret nou : 1299\n",
      "Pret vechi : -1\n",
      "Capacitate memorie (GB) : 6\n",
      "Vandut de : CEL.RO\n",
      "Titlu : Gigabyte GeForce GTX 1050Ti OC 4GB GDDR5 128bit\n",
      "Pret nou : 709\n",
      "Pret vechi : -1\n",
      "Capacitate memorie (GB) : 4\n",
      "Vandut de : CEL.RO\n",
      "Titlu : MSI GeForce GTX 1660 SUPER VENTUS XS OC 6GB GDDR6 192-bit\n",
      "Pret nou : 1298\n",
      "Pret vechi : -1\n",
      "Capacitate memorie (GB) : 6\n",
      "Vandut de : CEL.RO\n",
      "Titlu : ZOTAC GAMING GeForce RTX 2070 8GB GDDR6 256-bit\n",
      "Pret nou : 1999\n",
      "Pret vechi : 2040\n",
      "Capacitate memorie (GB) : 8\n",
      "Vandut de : CEL.RO\n",
      "Titlu : PowerColor Red Devil Radeon RX 5700 8GB GDDR6 256-bit\n",
      "Pret nou : 2067\n",
      "Pret vechi : -1\n",
      "Capacitate memorie (GB) : 8\n",
      "Vandut de : CEL.RO\n",
      "Titlu : ASRock Phantom Gaming D Radeon RX 580 OC 8 GB GDDR5 256-bit\n",
      "Pret nou : 967\n",
      "Pret vechi : -1\n",
      "Capacitate memorie (GB) : 8\n",
      "Vandut de : CEL.RO\n",
      "Titlu : PNY NVIDIA Quadro RTX 5000 16GB GDDR6 384-bit\n",
      "Pret nou : 11161\n",
      "Pret vechi : -1\n",
      "Capacitate memorie (GB) : 16\n",
      "Vandut de : CEL.RO\n",
      "Titlu : MSI GeForce GTX 1660 SUPER GAMING X 6GB GDDR6 192-bit\n",
      "Pret nou : 1401\n",
      "Pret vechi : -1\n",
      "Capacitate memorie (GB) : 6\n",
      "Vandut de : CEL.RO\n",
      "Titlu : Sapphire PULSE RADEON RX 570 4GB GDDR5 256-bit\n",
      "Pret nou : 669\n",
      "Pret vechi : -1\n",
      "Capacitate memorie (GB) : 4\n",
      "Vandut de : CEL.RO\n",
      "Titlu : Sapphire Nitro+ Radeon RX 5700 XT 8GB GDDR6 OC 256-bit\n",
      "Pret nou : 2242\n",
      "Pret vechi : -1\n",
      "Capacitate memorie (GB) : 8\n",
      "Vandut de : CEL.RO\n",
      "Titlu : ASUS ROG Strix GeForce GTX 1650 SUPER OC Edition 4GB GDDR6 128-bit\n",
      "Pret nou : 1088\n",
      "Pret vechi : -1\n",
      "Capacitate memorie (GB) : 4\n",
      "Vandut de : CEL.RO\n",
      "Titlu : GIGABYTE GeForce GT710 2GB GDDR5 64-bit\n",
      "Pret nou : 241\n",
      "Pret vechi : -1\n",
      "Capacitate memorie (GB) : 2\n",
      "Vandut de : CEL.RO\n",
      "Titlu : MSI GeForce RTX 2070 TRI FROZR 8GB GDDR6 256-bit\n",
      "Pret nou : 2323\n",
      "Pret vechi : -1\n",
      "Capacitate memorie (GB) : 6\n",
      "Vandut de : CEL.RO\n",
      "Titlu : MSI GeForce GTX 1660 VENTUS XS OC 6GB GDDR5 192-bit\n",
      "Pret nou : 1227\n",
      "Pret vechi : -1\n",
      "Capacitate memorie (GB) : 6\n",
      "Vandut de : CEL.RO\n"
     ]
    }
   ],
   "source": [
    "for container in containers : \n",
    "    productTitle = container.findAll(\"h2\",{\"class\":\"productTitle\"})\n",
    "    titlu = productTitle[0].text.strip().replace(\"Placa video \",\"\")\n",
    "    \n",
    "    pret_n = container.findAll(\"div\",{\"class\":\"pret_n\"})\n",
    "    pretNou = pret_n[0].text.strip().replace(\"lei\",\"\") \n",
    "    \n",
    "    try:\n",
    "        pret_v = container.findAll(\"div\",{\"class\":\"pret_v\"})\n",
    "        pretVechi = pret_v[0].text.strip().replace(\" lei\",\"\")\n",
    "    except:\n",
    "        pretVechi = -1\n",
    "    \n",
    "    caract_scurte = container.findAll(\"div\",{\"class\":\"caract_scurte\"})\n",
    "    crt = caract_scurte[0].text.strip().replace(\"Capacitate memorie (GB): \",\"\").replace(\" GB\",\"\")\n",
    "    \n",
    "    oferte_alternative = container.findAll(\"div\",{\"class\":\"oferte_alternative\"})\n",
    "    ofAlt = oferte_alternative[0].text.strip()\n",
    "    \n",
    "    title.append(titlu)\n",
    "    price_n.append(pretNou)\n",
    "    price_o.append(pretVechi)\n",
    "    mem_gb.append(crt)\n",
    "    vendor.append(ofAlt[10:])\n",
    "    \n",
    "    print(\"Titlu : \" + titlu)\n",
    "    print(\"Pret nou : \" + pretNou)\n",
    "    print(\"Pret vechi : \" + str(pretVechi))\n",
    "    print(\"Capacitate memorie (GB) : \" + crt)\n",
    "    print(\"Vandut de : \" + ofAlt[10:])"
   ]
  },
  {
   "cell_type": "code",
   "execution_count": null,
   "metadata": {},
   "outputs": [],
   "source": []
  },
  {
   "cell_type": "code",
   "execution_count": null,
   "metadata": {},
   "outputs": [],
   "source": []
  },
  {
   "cell_type": "code",
   "execution_count": null,
   "metadata": {},
   "outputs": [],
   "source": []
  }
 ],
 "metadata": {
  "kernelspec": {
   "display_name": "Python 3",
   "language": "python",
   "name": "python3"
  },
  "language_info": {
   "codemirror_mode": {
    "name": "ipython",
    "version": 3
   },
   "file_extension": ".py",
   "mimetype": "text/x-python",
   "name": "python",
   "nbconvert_exporter": "python",
   "pygments_lexer": "ipython3",
   "version": "3.7.3"
  }
 },
 "nbformat": 4,
 "nbformat_minor": 2
}
